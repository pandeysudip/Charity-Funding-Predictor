{
 "cells": [
  {
   "cell_type": "markdown",
   "metadata": {},
   "source": [
    "## Preprocessing"
   ]
  },
  {
   "cell_type": "code",
   "execution_count": 119,
   "metadata": {},
   "outputs": [],
   "source": [
    "# Import our dependencies\n",
    "from sklearn.model_selection import train_test_split\n",
    "from sklearn.preprocessing import StandardScaler\n",
    "import pandas as pd\n",
    "import tensorflow as tf\n"
   ]
  },
  {
   "cell_type": "code",
   "execution_count": 120,
   "metadata": {},
   "outputs": [
    {
     "data": {
      "text/html": [
       "<div>\n",
       "<style scoped>\n",
       "    .dataframe tbody tr th:only-of-type {\n",
       "        vertical-align: middle;\n",
       "    }\n",
       "\n",
       "    .dataframe tbody tr th {\n",
       "        vertical-align: top;\n",
       "    }\n",
       "\n",
       "    .dataframe thead th {\n",
       "        text-align: right;\n",
       "    }\n",
       "</style>\n",
       "<table border=\"1\" class=\"dataframe\">\n",
       "  <thead>\n",
       "    <tr style=\"text-align: right;\">\n",
       "      <th></th>\n",
       "      <th>EIN</th>\n",
       "      <th>NAME</th>\n",
       "      <th>APPLICATION_TYPE</th>\n",
       "      <th>AFFILIATION</th>\n",
       "      <th>CLASSIFICATION</th>\n",
       "      <th>USE_CASE</th>\n",
       "      <th>ORGANIZATION</th>\n",
       "      <th>STATUS</th>\n",
       "      <th>INCOME_AMT</th>\n",
       "      <th>SPECIAL_CONSIDERATIONS</th>\n",
       "      <th>ASK_AMT</th>\n",
       "      <th>IS_SUCCESSFUL</th>\n",
       "    </tr>\n",
       "  </thead>\n",
       "  <tbody>\n",
       "    <tr>\n",
       "      <th>0</th>\n",
       "      <td>10520599</td>\n",
       "      <td>BLUE KNIGHTS MOTORCYCLE CLUB</td>\n",
       "      <td>T10</td>\n",
       "      <td>Independent</td>\n",
       "      <td>C1000</td>\n",
       "      <td>ProductDev</td>\n",
       "      <td>Association</td>\n",
       "      <td>1</td>\n",
       "      <td>0</td>\n",
       "      <td>N</td>\n",
       "      <td>5000</td>\n",
       "      <td>1</td>\n",
       "    </tr>\n",
       "    <tr>\n",
       "      <th>1</th>\n",
       "      <td>10531628</td>\n",
       "      <td>AMERICAN CHESAPEAKE CLUB CHARITABLE TR</td>\n",
       "      <td>T3</td>\n",
       "      <td>Independent</td>\n",
       "      <td>C2000</td>\n",
       "      <td>Preservation</td>\n",
       "      <td>Co-operative</td>\n",
       "      <td>1</td>\n",
       "      <td>1-9999</td>\n",
       "      <td>N</td>\n",
       "      <td>108590</td>\n",
       "      <td>1</td>\n",
       "    </tr>\n",
       "    <tr>\n",
       "      <th>2</th>\n",
       "      <td>10547893</td>\n",
       "      <td>ST CLOUD PROFESSIONAL FIREFIGHTERS</td>\n",
       "      <td>T5</td>\n",
       "      <td>CompanySponsored</td>\n",
       "      <td>C3000</td>\n",
       "      <td>ProductDev</td>\n",
       "      <td>Association</td>\n",
       "      <td>1</td>\n",
       "      <td>0</td>\n",
       "      <td>N</td>\n",
       "      <td>5000</td>\n",
       "      <td>0</td>\n",
       "    </tr>\n",
       "    <tr>\n",
       "      <th>3</th>\n",
       "      <td>10553066</td>\n",
       "      <td>SOUTHSIDE ATHLETIC ASSOCIATION</td>\n",
       "      <td>T3</td>\n",
       "      <td>CompanySponsored</td>\n",
       "      <td>C2000</td>\n",
       "      <td>Preservation</td>\n",
       "      <td>Trust</td>\n",
       "      <td>1</td>\n",
       "      <td>10000-24999</td>\n",
       "      <td>N</td>\n",
       "      <td>6692</td>\n",
       "      <td>1</td>\n",
       "    </tr>\n",
       "    <tr>\n",
       "      <th>4</th>\n",
       "      <td>10556103</td>\n",
       "      <td>GENETIC RESEARCH INSTITUTE OF THE DESERT</td>\n",
       "      <td>T3</td>\n",
       "      <td>Independent</td>\n",
       "      <td>C1000</td>\n",
       "      <td>Heathcare</td>\n",
       "      <td>Trust</td>\n",
       "      <td>1</td>\n",
       "      <td>100000-499999</td>\n",
       "      <td>N</td>\n",
       "      <td>142590</td>\n",
       "      <td>1</td>\n",
       "    </tr>\n",
       "  </tbody>\n",
       "</table>\n",
       "</div>"
      ],
      "text/plain": [
       "        EIN                                      NAME APPLICATION_TYPE  \\\n",
       "0  10520599              BLUE KNIGHTS MOTORCYCLE CLUB              T10   \n",
       "1  10531628    AMERICAN CHESAPEAKE CLUB CHARITABLE TR               T3   \n",
       "2  10547893        ST CLOUD PROFESSIONAL FIREFIGHTERS               T5   \n",
       "3  10553066            SOUTHSIDE ATHLETIC ASSOCIATION               T3   \n",
       "4  10556103  GENETIC RESEARCH INSTITUTE OF THE DESERT               T3   \n",
       "\n",
       "        AFFILIATION CLASSIFICATION      USE_CASE  ORGANIZATION  STATUS  \\\n",
       "0       Independent          C1000    ProductDev   Association       1   \n",
       "1       Independent          C2000  Preservation  Co-operative       1   \n",
       "2  CompanySponsored          C3000    ProductDev   Association       1   \n",
       "3  CompanySponsored          C2000  Preservation         Trust       1   \n",
       "4       Independent          C1000     Heathcare         Trust       1   \n",
       "\n",
       "      INCOME_AMT SPECIAL_CONSIDERATIONS  ASK_AMT  IS_SUCCESSFUL  \n",
       "0              0                      N     5000              1  \n",
       "1         1-9999                      N   108590              1  \n",
       "2              0                      N     5000              0  \n",
       "3    10000-24999                      N     6692              1  \n",
       "4  100000-499999                      N   142590              1  "
      ]
     },
     "execution_count": 120,
     "metadata": {},
     "output_type": "execute_result"
    }
   ],
   "source": [
    "#  Import and read the charity_data.csv.\n",
    "import pandas as pd \n",
    "application_df = pd.read_csv(\"Resources/charity_data.csv\")\n",
    "application_df.head()"
   ]
  },
  {
   "cell_type": "code",
   "execution_count": 121,
   "metadata": {},
   "outputs": [
    {
     "data": {
      "text/plain": [
       "(34299, 12)"
      ]
     },
     "execution_count": 121,
     "metadata": {},
     "output_type": "execute_result"
    }
   ],
   "source": [
    "#shape of dataframe \n",
    "application_df.shape"
   ]
  },
  {
   "cell_type": "code",
   "execution_count": 122,
   "metadata": {},
   "outputs": [
    {
     "data": {
      "text/plain": [
       "Index(['EIN', 'NAME', 'APPLICATION_TYPE', 'AFFILIATION', 'CLASSIFICATION',\n",
       "       'USE_CASE', 'ORGANIZATION', 'STATUS', 'INCOME_AMT',\n",
       "       'SPECIAL_CONSIDERATIONS', 'ASK_AMT', 'IS_SUCCESSFUL'],\n",
       "      dtype='object')"
      ]
     },
     "execution_count": 122,
     "metadata": {},
     "output_type": "execute_result"
    }
   ],
   "source": [
    "#name of columns\n",
    "application_df.columns"
   ]
  },
  {
   "cell_type": "code",
   "execution_count": 123,
   "metadata": {},
   "outputs": [],
   "source": [
    "# Droping the non-beneficial ID columns, 'EIN' and 'NAME'.\n",
    "application_df.drop(columns=['EIN', 'NAME'], inplace=True)"
   ]
  },
  {
   "cell_type": "code",
   "execution_count": 124,
   "metadata": {},
   "outputs": [
    {
     "data": {
      "text/plain": [
       "APPLICATION_TYPE            17\n",
       "AFFILIATION                  6\n",
       "CLASSIFICATION              71\n",
       "USE_CASE                     5\n",
       "ORGANIZATION                 4\n",
       "STATUS                       2\n",
       "INCOME_AMT                   9\n",
       "SPECIAL_CONSIDERATIONS       2\n",
       "ASK_AMT                   8747\n",
       "IS_SUCCESSFUL                2\n",
       "dtype: int64"
      ]
     },
     "execution_count": 124,
     "metadata": {},
     "output_type": "execute_result"
    }
   ],
   "source": [
    "# Number of unique values in each column.\n",
    "application_df.nunique()"
   ]
  },
  {
   "cell_type": "code",
   "execution_count": 125,
   "metadata": {},
   "outputs": [
    {
     "data": {
      "text/plain": [
       "T3     27037\n",
       "T4      1542\n",
       "T6      1216\n",
       "T5      1173\n",
       "T19     1065\n",
       "T8       737\n",
       "T7       725\n",
       "T10      528\n",
       "T9       156\n",
       "T13       66\n",
       "T12       27\n",
       "T2        16\n",
       "T25        3\n",
       "T14        3\n",
       "T29        2\n",
       "T15        2\n",
       "T17        1\n",
       "Name: APPLICATION_TYPE, dtype: int64"
      ]
     },
     "execution_count": 125,
     "metadata": {},
     "output_type": "execute_result"
    }
   ],
   "source": [
    "# Look at APPLICATION_TYPE value counts for binning\n",
    "application_df['APPLICATION_TYPE'].value_counts()"
   ]
  },
  {
   "cell_type": "code",
   "execution_count": 126,
   "metadata": {},
   "outputs": [
    {
     "name": "stdout",
     "output_type": "stream",
     "text": [
      "<class 'pandas.core.frame.DataFrame'>\n",
      "RangeIndex: 34299 entries, 0 to 34298\n",
      "Data columns (total 10 columns):\n",
      " #   Column                  Non-Null Count  Dtype \n",
      "---  ------                  --------------  ----- \n",
      " 0   APPLICATION_TYPE        34299 non-null  object\n",
      " 1   AFFILIATION             34299 non-null  object\n",
      " 2   CLASSIFICATION          34299 non-null  object\n",
      " 3   USE_CASE                34299 non-null  object\n",
      " 4   ORGANIZATION            34299 non-null  object\n",
      " 5   STATUS                  34299 non-null  int64 \n",
      " 6   INCOME_AMT              34299 non-null  object\n",
      " 7   SPECIAL_CONSIDERATIONS  34299 non-null  object\n",
      " 8   ASK_AMT                 34299 non-null  int64 \n",
      " 9   IS_SUCCESSFUL           34299 non-null  int64 \n",
      "dtypes: int64(3), object(7)\n",
      "memory usage: 2.6+ MB\n"
     ]
    }
   ],
   "source": [
    "application_df.info()"
   ]
  },
  {
   "cell_type": "code",
   "execution_count": 127,
   "metadata": {},
   "outputs": [
    {
     "data": {
      "text/plain": [
       "Index(['T3', 'T4', 'T6', 'T5', 'T19', 'T8', 'T7', 'T10'], dtype='object')"
      ]
     },
     "execution_count": 127,
     "metadata": {},
     "output_type": "execute_result"
    }
   ],
   "source": [
    "application_df['APPLICATION_TYPE'].value_counts().loc[lambda x : x>500].index"
   ]
  },
  {
   "cell_type": "code",
   "execution_count": 128,
   "metadata": {},
   "outputs": [
    {
     "data": {
      "text/plain": [
       "T3       27037\n",
       "T4        1542\n",
       "T6        1216\n",
       "T5        1173\n",
       "T19       1065\n",
       "T8         737\n",
       "T7         725\n",
       "T10        528\n",
       "Other      276\n",
       "Name: APPLICATION_TYPE, dtype: int64"
      ]
     },
     "execution_count": 128,
     "metadata": {},
     "output_type": "execute_result"
    }
   ],
   "source": [
    "# Choosing a cutoff value and create a list of application types to be replaced\n",
    "\n",
    "application_types_to_replace=list(application_df['APPLICATION_TYPE'].value_counts()\n",
    "                                  .loc[lambda x : x<500].index)\n",
    "\n",
    "# Replace in dataframe\n",
    "for app in application_types_to_replace:\n",
    "    application_df['APPLICATION_TYPE'] = application_df['APPLICATION_TYPE'].replace(app,\"Other\")\n",
    "\n",
    "# Check to make sure binning was successful\n",
    "application_df['APPLICATION_TYPE'].value_counts()"
   ]
  },
  {
   "cell_type": "code",
   "execution_count": 129,
   "metadata": {},
   "outputs": [
    {
     "data": {
      "text/plain": [
       "C1000    17326\n",
       "C2000     6074\n",
       "C1200     4837\n",
       "C3000     1918\n",
       "C2100     1883\n",
       "         ...  \n",
       "C4120        1\n",
       "C8210        1\n",
       "C2561        1\n",
       "C4500        1\n",
       "C2150        1\n",
       "Name: CLASSIFICATION, Length: 71, dtype: int64"
      ]
     },
     "execution_count": 129,
     "metadata": {},
     "output_type": "execute_result"
    }
   ],
   "source": [
    "# Looking at CLASSIFICATION value counts for binning\n",
    "application_df['CLASSIFICATION'].value_counts()"
   ]
  },
  {
   "cell_type": "code",
   "execution_count": 130,
   "metadata": {},
   "outputs": [
    {
     "data": {
      "text/plain": [
       "C1000    17326\n",
       "C2000     6074\n",
       "C1200     4837\n",
       "C3000     1918\n",
       "C2100     1883\n",
       "C7000      777\n",
       "C1700      287\n",
       "C4000      194\n",
       "C5000      116\n",
       "C1270      114\n",
       "C2700      104\n",
       "C2800       95\n",
       "C7100       75\n",
       "C1300       58\n",
       "C1280       50\n",
       "C1230       36\n",
       "C1400       34\n",
       "C7200       32\n",
       "C2300       32\n",
       "C1240       30\n",
       "C8000       20\n",
       "C7120       18\n",
       "C1500       16\n",
       "C1800       15\n",
       "C6000       15\n",
       "C1250       14\n",
       "C8200       11\n",
       "C1238       10\n",
       "C1278       10\n",
       "C1235        9\n",
       "C1237        9\n",
       "C7210        7\n",
       "C2400        6\n",
       "C1720        6\n",
       "C4100        6\n",
       "C1257        5\n",
       "C1600        5\n",
       "C1260        3\n",
       "C2710        3\n",
       "C0           3\n",
       "C3200        2\n",
       "C1234        2\n",
       "C1246        2\n",
       "C1267        2\n",
       "C1256        2\n",
       "Name: CLASSIFICATION, dtype: int64"
      ]
     },
     "execution_count": 130,
     "metadata": {},
     "output_type": "execute_result"
    }
   ],
   "source": [
    "# To look at CLASSIFICATION value counts >1\n",
    "application_df['CLASSIFICATION'].value_counts().loc[lambda x : x>1]\n"
   ]
  },
  {
   "cell_type": "code",
   "execution_count": 131,
   "metadata": {},
   "outputs": [
    {
     "data": {
      "text/plain": [
       "C1000    17326\n",
       "C2000     6074\n",
       "C1200     4837\n",
       "C3000     1918\n",
       "C2100     1883\n",
       "         ...  \n",
       "C4120        1\n",
       "C8210        1\n",
       "C2561        1\n",
       "C4500        1\n",
       "C2150        1\n",
       "Name: CLASSIFICATION, Length: 71, dtype: int64"
      ]
     },
     "execution_count": 131,
     "metadata": {},
     "output_type": "execute_result"
    }
   ],
   "source": [
    "# Choose a cutoff value and create a list of classifications to be replaced\n",
    "\n",
    "classifications_to_replace=list(application_df['CLASSIFICATION'].value_counts().loc[lambda x : x<1].index)\n",
    "\n",
    "\n",
    "# Replace in dataframe\n",
    "for cls in classifications_to_replace:\n",
    "    application_df['CLASSIFICATION'] = application_df['CLASSIFICATION'].replace(cls,\"Other\")\n",
    "    \n",
    "# Check to make sure binning was successful\n",
    "application_df['CLASSIFICATION'].value_counts()"
   ]
  },
  {
   "cell_type": "code",
   "execution_count": 132,
   "metadata": {},
   "outputs": [],
   "source": [
    "# Convert categorical data to numeric with `pd.get_dummies`\n",
    "final_df=pd.get_dummies(application_df)"
   ]
  },
  {
   "cell_type": "code",
   "execution_count": 133,
   "metadata": {},
   "outputs": [],
   "source": [
    "# Split our preprocessed data into our features and target arrays\n",
    "X=final_df.drop('IS_SUCCESSFUL', axis=1)\n",
    "y=final_df['IS_SUCCESSFUL'].values\n",
    "# Split the preprocessed data into a training and testing dataset\n",
    "X_train, X_test, y_train, y_test=train_test_split(X,y, random_state=42, test_size=0.2)"
   ]
  },
  {
   "cell_type": "code",
   "execution_count": 134,
   "metadata": {},
   "outputs": [],
   "source": [
    "# Create a StandardScaler instances\n",
    "scaler = StandardScaler()\n",
    "\n",
    "# Fit the StandardScaler\n",
    "X_scaler = scaler.fit(X_train)\n",
    "\n",
    "# Scale the data\n",
    "X_train_scaled = X_scaler.transform(X_train)\n",
    "X_test_scaled = X_scaler.transform(X_test)"
   ]
  },
  {
   "cell_type": "markdown",
   "metadata": {},
   "source": [
    "## Compile, Train and Evaluate the Model"
   ]
  },
  {
   "cell_type": "code",
   "execution_count": 142,
   "metadata": {},
   "outputs": [
    {
     "name": "stdout",
     "output_type": "stream",
     "text": [
      "Model: \"sequential\"\n",
      "_________________________________________________________________\n",
      "Layer (type)                 Output Shape              Param #   \n",
      "=================================================================\n",
      "dense (Dense)                (None, 8)                 872       \n",
      "_________________________________________________________________\n",
      "dense_1 (Dense)              (None, 5)                 45        \n",
      "_________________________________________________________________\n",
      "dense_2 (Dense)              (None, 1)                 6         \n",
      "=================================================================\n",
      "Total params: 923\n",
      "Trainable params: 923\n",
      "Non-trainable params: 0\n",
      "_________________________________________________________________\n"
     ]
    },
    {
     "name": "stderr",
     "output_type": "stream",
     "text": [
      "2022-01-20 18:23:29.934361: I tensorflow/core/platform/cpu_feature_guard.cc:142] This TensorFlow binary is optimized with oneAPI Deep Neural Network Library (oneDNN)to use the following CPU instructions in performance-critical operations:  AVX2 FMA\n",
      "To enable them in other operations, rebuild TensorFlow with the appropriate compiler flags.\n",
      "2022-01-20 18:23:30.039388: I tensorflow/compiler/xla/service/service.cc:168] XLA service 0x7fa0d5ab1190 initialized for platform Host (this does not guarantee that XLA will be used). Devices:\n",
      "2022-01-20 18:23:30.039404: I tensorflow/compiler/xla/service/service.cc:176]   StreamExecutor device (0): Host, Default Version\n"
     ]
    }
   ],
   "source": [
    "# Define the model - deep neural net, i.e., the number of input features and hidden nodes for each layer.\n",
    "number_input_features = X_train.shape[1]\n",
    "hidden_nodes_layer1 =  8\n",
    "hidden_nodes_layer2 = 5\n",
    "\n",
    "\n",
    "nn = tf.keras.models.Sequential()\n",
    "\n",
    "# First hidden layer\n",
    "nn.add(tf.keras.layers.Dense(units=hidden_nodes_layer1, input_dim=number_input_features, activation=\"relu\"))\n",
    "\n",
    "# Second hidden layer\n",
    "nn.add(tf.keras.layers.Dense(units=hidden_nodes_layer2, activation=\"relu\"))\n",
    "\n",
    "# Output layer\n",
    "nn.add(tf.keras.layers.Dense(units=1, activation=\"sigmoid\"))\n",
    "\n",
    "# Check the structure of the model\n",
    "nn.summary()"
   ]
  },
  {
   "cell_type": "code",
   "execution_count": 143,
   "metadata": {},
   "outputs": [],
   "source": [
    "# Compile the model\n",
    "nn.compile(loss=\"binary_crossentropy\", optimizer=\"adam\", metrics=[\"accuracy\"])"
   ]
  },
  {
   "cell_type": "code",
   "execution_count": 144,
   "metadata": {},
   "outputs": [
    {
     "name": "stdout",
     "output_type": "stream",
     "text": [
      "Epoch 1/100\n",
      "858/858 [==============================] - 0s 536us/step - loss: 0.5977 - accuracy: 0.7143\n",
      "Epoch 2/100\n",
      "858/858 [==============================] - 0s 515us/step - loss: 0.5637 - accuracy: 0.7274\n",
      "Epoch 3/100\n",
      "858/858 [==============================] - 0s 519us/step - loss: 0.5569 - accuracy: 0.7277\n",
      "Epoch 4/100\n",
      "858/858 [==============================] - 0s 517us/step - loss: 0.5537 - accuracy: 0.7297\n",
      "Epoch 5/100\n",
      "858/858 [==============================] - 0s 525us/step - loss: 0.5515 - accuracy: 0.7308\n",
      "Epoch 6/100\n",
      "858/858 [==============================] - 0s 558us/step - loss: 0.5506 - accuracy: 0.7300\n",
      "Epoch 7/100\n",
      "858/858 [==============================] - 1s 585us/step - loss: 0.5492 - accuracy: 0.7314\n",
      "Epoch 8/100\n",
      "858/858 [==============================] - 0s 564us/step - loss: 0.5488 - accuracy: 0.7305\n",
      "Epoch 9/100\n",
      "858/858 [==============================] - 1s 604us/step - loss: 0.5485 - accuracy: 0.7312\n",
      "Epoch 10/100\n",
      "858/858 [==============================] - 1s 584us/step - loss: 0.5477 - accuracy: 0.7318\n",
      "Epoch 11/100\n",
      "858/858 [==============================] - 1s 595us/step - loss: 0.5477 - accuracy: 0.7325\n",
      "Epoch 12/100\n",
      "858/858 [==============================] - 0s 551us/step - loss: 0.5474 - accuracy: 0.7311\n",
      "Epoch 13/100\n",
      "858/858 [==============================] - 0s 548us/step - loss: 0.5469 - accuracy: 0.7329\n",
      "Epoch 14/100\n",
      "858/858 [==============================] - 1s 686us/step - loss: 0.5467 - accuracy: 0.7327\n",
      "Epoch 15/100\n",
      "858/858 [==============================] - 0s 544us/step - loss: 0.5463 - accuracy: 0.7314\n",
      "Epoch 16/100\n",
      "858/858 [==============================] - 0s 555us/step - loss: 0.5462 - accuracy: 0.7326\n",
      "Epoch 17/100\n",
      "858/858 [==============================] - 0s 542us/step - loss: 0.5456 - accuracy: 0.7326\n",
      "Epoch 18/100\n",
      "858/858 [==============================] - 0s 568us/step - loss: 0.5454 - accuracy: 0.7334\n",
      "Epoch 19/100\n",
      "858/858 [==============================] - 1s 617us/step - loss: 0.5449 - accuracy: 0.7336\n",
      "Epoch 20/100\n",
      "858/858 [==============================] - 1s 650us/step - loss: 0.5445 - accuracy: 0.73320s - loss: 0.5473 - ac\n",
      "Epoch 21/100\n",
      "858/858 [==============================] - 0s 572us/step - loss: 0.5446 - accuracy: 0.7329\n",
      "Epoch 22/100\n",
      "858/858 [==============================] - 1s 726us/step - loss: 0.5443 - accuracy: 0.7329\n",
      "Epoch 23/100\n",
      "858/858 [==============================] - 1s 701us/step - loss: 0.5442 - accuracy: 0.7329\n",
      "Epoch 24/100\n",
      "858/858 [==============================] - 1s 594us/step - loss: 0.5439 - accuracy: 0.7331\n",
      "Epoch 25/100\n",
      "858/858 [==============================] - 1s 595us/step - loss: 0.5437 - accuracy: 0.7336\n",
      "Epoch 26/100\n",
      "858/858 [==============================] - 0s 542us/step - loss: 0.5434 - accuracy: 0.7332\n",
      "Epoch 27/100\n",
      "858/858 [==============================] - 0s 541us/step - loss: 0.5431 - accuracy: 0.7337\n",
      "Epoch 28/100\n",
      "858/858 [==============================] - 1s 616us/step - loss: 0.5439 - accuracy: 0.7339\n",
      "Epoch 29/100\n",
      "858/858 [==============================] - 1s 683us/step - loss: 0.5431 - accuracy: 0.7342\n",
      "Epoch 30/100\n",
      "858/858 [==============================] - 0s 560us/step - loss: 0.5430 - accuracy: 0.7333\n",
      "Epoch 31/100\n",
      "858/858 [==============================] - 0s 549us/step - loss: 0.5429 - accuracy: 0.7329\n",
      "Epoch 32/100\n",
      "858/858 [==============================] - 0s 576us/step - loss: 0.5429 - accuracy: 0.7338\n",
      "Epoch 33/100\n",
      "858/858 [==============================] - 0s 561us/step - loss: 0.5429 - accuracy: 0.7344\n",
      "Epoch 34/100\n",
      "858/858 [==============================] - 0s 568us/step - loss: 0.5426 - accuracy: 0.7340\n",
      "Epoch 35/100\n",
      "858/858 [==============================] - 0s 559us/step - loss: 0.5426 - accuracy: 0.7336\n",
      "Epoch 36/100\n",
      "858/858 [==============================] - 0s 556us/step - loss: 0.5427 - accuracy: 0.7333\n",
      "Epoch 37/100\n",
      "858/858 [==============================] - 0s 547us/step - loss: 0.5421 - accuracy: 0.7344\n",
      "Epoch 38/100\n",
      "858/858 [==============================] - 1s 596us/step - loss: 0.5420 - accuracy: 0.7354\n",
      "Epoch 39/100\n",
      "858/858 [==============================] - 0s 550us/step - loss: 0.5421 - accuracy: 0.7342\n",
      "Epoch 40/100\n",
      "858/858 [==============================] - 0s 583us/step - loss: 0.5417 - accuracy: 0.7346\n",
      "Epoch 41/100\n",
      "858/858 [==============================] - 0s 540us/step - loss: 0.5420 - accuracy: 0.7344\n",
      "Epoch 42/100\n",
      "858/858 [==============================] - 0s 538us/step - loss: 0.5417 - accuracy: 0.7347\n",
      "Epoch 43/100\n",
      "858/858 [==============================] - 0s 530us/step - loss: 0.5420 - accuracy: 0.7350\n",
      "Epoch 44/100\n",
      "858/858 [==============================] - 0s 523us/step - loss: 0.5412 - accuracy: 0.7350\n",
      "Epoch 45/100\n",
      "858/858 [==============================] - 0s 527us/step - loss: 0.5414 - accuracy: 0.7350\n",
      "Epoch 46/100\n",
      "858/858 [==============================] - 0s 563us/step - loss: 0.5414 - accuracy: 0.7347\n",
      "Epoch 47/100\n",
      "858/858 [==============================] - 0s 558us/step - loss: 0.5416 - accuracy: 0.7351\n",
      "Epoch 48/100\n",
      "858/858 [==============================] - 0s 543us/step - loss: 0.5411 - accuracy: 0.7360\n",
      "Epoch 49/100\n",
      "858/858 [==============================] - 0s 556us/step - loss: 0.5417 - accuracy: 0.7354\n",
      "Epoch 50/100\n",
      "858/858 [==============================] - 0s 551us/step - loss: 0.5412 - accuracy: 0.7350\n",
      "Epoch 51/100\n",
      "858/858 [==============================] - 0s 549us/step - loss: 0.5412 - accuracy: 0.7349\n",
      "Epoch 52/100\n",
      "858/858 [==============================] - 0s 545us/step - loss: 0.5412 - accuracy: 0.7340\n",
      "Epoch 53/100\n",
      "858/858 [==============================] - 0s 541us/step - loss: 0.5410 - accuracy: 0.7356\n",
      "Epoch 54/100\n",
      "858/858 [==============================] - 1s 750us/step - loss: 0.5411 - accuracy: 0.7343\n",
      "Epoch 55/100\n",
      "858/858 [==============================] - 1s 632us/step - loss: 0.5406 - accuracy: 0.7346\n",
      "Epoch 56/100\n",
      "858/858 [==============================] - 0s 566us/step - loss: 0.5413 - accuracy: 0.7346\n",
      "Epoch 57/100\n",
      "858/858 [==============================] - 0s 571us/step - loss: 0.5411 - accuracy: 0.7346\n",
      "Epoch 58/100\n",
      "858/858 [==============================] - 1s 592us/step - loss: 0.5408 - accuracy: 0.7355\n",
      "Epoch 59/100\n",
      "858/858 [==============================] - 1s 601us/step - loss: 0.5411 - accuracy: 0.7352\n",
      "Epoch 60/100\n",
      "858/858 [==============================] - 1s 623us/step - loss: 0.5409 - accuracy: 0.7352\n",
      "Epoch 61/100\n",
      "858/858 [==============================] - 1s 644us/step - loss: 0.5409 - accuracy: 0.7344\n",
      "Epoch 62/100\n",
      "858/858 [==============================] - 1s 610us/step - loss: 0.5408 - accuracy: 0.7344\n",
      "Epoch 63/100\n",
      "858/858 [==============================] - 1s 592us/step - loss: 0.5406 - accuracy: 0.7355\n",
      "Epoch 64/100\n",
      "858/858 [==============================] - 0s 542us/step - loss: 0.5406 - accuracy: 0.7344\n",
      "Epoch 65/100\n",
      "858/858 [==============================] - 0s 529us/step - loss: 0.5409 - accuracy: 0.7344\n",
      "Epoch 66/100\n",
      "858/858 [==============================] - 0s 550us/step - loss: 0.5404 - accuracy: 0.7353\n",
      "Epoch 67/100\n",
      "858/858 [==============================] - 0s 533us/step - loss: 0.5404 - accuracy: 0.7357\n",
      "Epoch 68/100\n",
      "858/858 [==============================] - 0s 522us/step - loss: 0.5404 - accuracy: 0.7344\n",
      "Epoch 69/100\n",
      "858/858 [==============================] - 0s 532us/step - loss: 0.5406 - accuracy: 0.7351\n",
      "Epoch 70/100\n",
      "858/858 [==============================] - 0s 522us/step - loss: 0.5404 - accuracy: 0.7361\n",
      "Epoch 71/100\n",
      "858/858 [==============================] - 1s 588us/step - loss: 0.5406 - accuracy: 0.7357\n",
      "Epoch 72/100\n",
      "858/858 [==============================] - 0s 582us/step - loss: 0.5406 - accuracy: 0.7356\n",
      "Epoch 73/100\n",
      "858/858 [==============================] - 1s 605us/step - loss: 0.5403 - accuracy: 0.7347\n",
      "Epoch 74/100\n",
      "858/858 [==============================] - 1s 697us/step - loss: 0.5403 - accuracy: 0.7354\n",
      "Epoch 75/100\n",
      "858/858 [==============================] - 1s 638us/step - loss: 0.5404 - accuracy: 0.7354\n",
      "Epoch 76/100\n",
      "858/858 [==============================] - 1s 631us/step - loss: 0.5403 - accuracy: 0.7346\n",
      "Epoch 77/100\n",
      "858/858 [==============================] - 1s 669us/step - loss: 0.5405 - accuracy: 0.7353\n",
      "Epoch 78/100\n",
      "858/858 [==============================] - 1s 753us/step - loss: 0.5402 - accuracy: 0.7352\n",
      "Epoch 79/100\n",
      "858/858 [==============================] - 1s 791us/step - loss: 0.5401 - accuracy: 0.7349\n",
      "Epoch 80/100\n",
      "858/858 [==============================] - 1s 732us/step - loss: 0.5400 - accuracy: 0.7354\n",
      "Epoch 81/100\n",
      "858/858 [==============================] - 1s 604us/step - loss: 0.5403 - accuracy: 0.7346\n",
      "Epoch 82/100\n",
      "858/858 [==============================] - 1s 665us/step - loss: 0.5403 - accuracy: 0.7344\n",
      "Epoch 83/100\n",
      "858/858 [==============================] - 1s 647us/step - loss: 0.5401 - accuracy: 0.7348\n",
      "Epoch 84/100\n",
      "858/858 [==============================] - 1s 731us/step - loss: 0.5399 - accuracy: 0.7353\n",
      "Epoch 85/100\n",
      "858/858 [==============================] - 1s 671us/step - loss: 0.5401 - accuracy: 0.7357\n",
      "Epoch 86/100\n",
      "858/858 [==============================] - 0s 580us/step - loss: 0.5399 - accuracy: 0.7354\n",
      "Epoch 87/100\n",
      "858/858 [==============================] - 1s 644us/step - loss: 0.5401 - accuracy: 0.7346\n",
      "Epoch 88/100\n",
      "858/858 [==============================] - 1s 634us/step - loss: 0.5400 - accuracy: 0.7350\n",
      "Epoch 89/100\n",
      "858/858 [==============================] - 1s 630us/step - loss: 0.5398 - accuracy: 0.7354\n",
      "Epoch 90/100\n",
      "858/858 [==============================] - 1s 721us/step - loss: 0.5398 - accuracy: 0.7351\n",
      "Epoch 91/100\n",
      "858/858 [==============================] - 1s 823us/step - loss: 0.5398 - accuracy: 0.7356\n",
      "Epoch 92/100\n",
      "858/858 [==============================] - 1s 670us/step - loss: 0.5397 - accuracy: 0.7361\n",
      "Epoch 93/100\n",
      "858/858 [==============================] - 1s 700us/step - loss: 0.5395 - accuracy: 0.7359\n",
      "Epoch 94/100\n",
      "858/858 [==============================] - 1s 699us/step - loss: 0.5400 - accuracy: 0.7353\n",
      "Epoch 95/100\n",
      "858/858 [==============================] - 1s 691us/step - loss: 0.5399 - accuracy: 0.7356\n",
      "Epoch 96/100\n",
      "858/858 [==============================] - 1s 766us/step - loss: 0.5398 - accuracy: 0.7360\n",
      "Epoch 97/100\n",
      "858/858 [==============================] - 1s 962us/step - loss: 0.5398 - accuracy: 0.7349\n",
      "Epoch 98/100\n",
      "858/858 [==============================] - 1s 759us/step - loss: 0.5397 - accuracy: 0.7366\n",
      "Epoch 99/100\n",
      "858/858 [==============================] - 1s 586us/step - loss: 0.5399 - accuracy: 0.7354\n",
      "Epoch 100/100\n",
      "858/858 [==============================] - 1s 630us/step - loss: 0.5392 - accuracy: 0.7369\n"
     ]
    }
   ],
   "source": [
    "# Train the model\n",
    "fit_model = nn.fit(X_train_scaled, y_train, epochs=100)"
   ]
  },
  {
   "cell_type": "code",
   "execution_count": 145,
   "metadata": {},
   "outputs": [
    {
     "name": "stdout",
     "output_type": "stream",
     "text": [
      "215/215 - 0s - loss: 0.5575 - accuracy: 0.7227\n",
      "Loss: 0.557489812374115, Accuracy: 0.7227405309677124\n"
     ]
    }
   ],
   "source": [
    "# Evaluate the model using the test data\n",
    "model_loss, model_accuracy = nn.evaluate(X_test_scaled,y_test,verbose=2)\n",
    "print(f\"Loss: {model_loss}, Accuracy: {model_accuracy}\")"
   ]
  },
  {
   "cell_type": "code",
   "execution_count": 146,
   "metadata": {},
   "outputs": [
    {
     "data": {
      "text/plain": [
       "<AxesSubplot:>"
      ]
     },
     "execution_count": 146,
     "metadata": {},
     "output_type": "execute_result"
    },
    {
     "data": {
      "image/png": "[encoded data removed]",
      "text/plain": [
       "<Figure size 432x288 with 1 Axes>"
      ]
     },
     "metadata": {
      "needs_background": "light"
     },
     "output_type": "display_data"
    }
   ],
   "source": [
    " # Create a DataFrame containing training history\n",
    "history_df = pd.DataFrame(fit_model.history, index=range(1,len(fit_model.history[\"loss\"])+1))\n",
    "\n",
    "# Plot the accuracy\n",
    "history_df.plot(y=\"accuracy\")"
   ]
  },
  {
   "cell_type": "code",
   "execution_count": null,
   "metadata": {},
   "outputs": [],
   "source": []
  },
  {
   "cell_type": "code",
   "execution_count": 151,
   "metadata": {},
   "outputs": [],
   "source": [
    "# Create a method that creates a new Sequential model with hyperparameter options\n",
    "def create_model(hp):\n",
    "    nn = tf.keras.models.Sequential()\n",
    "\n",
    "    # Allow kerastuner to decide which activation function to use in hidden layers\n",
    "    activation = hp.Choice('activation',['relu','tanh','sigmoid'])\n",
    "    \n",
    "    # Allow kerastuner to decide number of neurons in first layer\n",
    "    nn.add(tf.keras.layers.Dense(units=hp.Int('first_units',\n",
    "        min_value=1,\n",
    "        max_value=10,\n",
    "        step=2), activation=activation, input_dim=number_input_features))\n",
    "\n",
    "    # Allow kerastuner to decide number of hidden layers and neurons in hidden layers\n",
    "    for i in range(hp.Int('num_layers', 1, 6)):\n",
    "        nn.add(tf.keras.layers.Dense(units=hp.Int('units_' + str(i),\n",
    "            min_value=1,\n",
    "            max_value=10,\n",
    "            step=2),\n",
    "            activation=activation))\n",
    "    \n",
    "    nn.add(tf.keras.layers.Dense(units=1, activation=\"sigmoid\"))\n",
    "\n",
    "    # Compile the model\n",
    "    nn.compile(loss=\"binary_crossentropy\", optimizer='adam', metrics=[\"accuracy\"])\n",
    "    \n",
    "    return nn"
   ]
  },
  {
   "cell_type": "code",
   "execution_count": 152,
   "metadata": {},
   "outputs": [
    {
     "name": "stdout",
     "output_type": "stream",
     "text": [
      "INFO:tensorflow:Reloading Oracle from existing project ./untitled_project/oracle.json\n"
     ]
    }
   ],
   "source": [
    "# Import the kerastuner library\n",
    "import keras_tuner as kt\n",
    "\n",
    "tuner = kt.Hyperband(\n",
    "    create_model,\n",
    "    objective=\"val_accuracy\",\n",
    "    max_epochs=20,\n",
    "    hyperband_iterations=2)"
   ]
  },
  {
   "cell_type": "code",
   "execution_count": null,
   "metadata": {},
   "outputs": [
    {
     "name": "stdout",
     "output_type": "stream",
     "text": [
      "Trial 41 Complete [00h 00m 03s]\n",
      "val_accuracy: 0.7271137237548828\n",
      "\n",
      "Best val_accuracy So Far: 0.7301748991012573\n",
      "Total elapsed time: 00h 03m 35s\n",
      "\n",
      "Search: Running Trial #42\n",
      "\n",
      "Hyperparameter    |Value             |Best Value So Far \n",
      "activation        |relu              |tanh              \n",
      "first_units       |9                 |9                 \n",
      "num_layers        |3                 |1                 \n",
      "units_0           |1                 |3                 \n",
      "units_1           |9                 |5                 \n",
      "units_2           |5                 |3                 \n",
      "units_3           |9                 |9                 \n",
      "units_4           |9                 |3                 \n",
      "units_5           |7                 |5                 \n",
      "tuner/epochs      |3                 |20                \n",
      "tuner/initial_e...|0                 |7                 \n",
      "tuner/bracket     |2                 |2                 \n",
      "tuner/round       |0                 |2                 \n",
      "\n",
      "Epoch 1/3\n",
      "858/858 [==============================] - 1s 864us/step - loss: 0.6409 - accuracy: 0.6334 - val_loss: 0.6224 - val_accuracy: 0.6714\n",
      "Epoch 2/3\n",
      "826/858 [===========================>..] - ETA: 0s - loss: 0.6073 - accuracy: 0.6920"
     ]
    }
   ],
   "source": [
    "# Run the kerastuner search for best hyperparameters\n",
    "tuner.search(X_train_scaled,y_train,epochs=20,validation_data=(X_test_scaled,y_test))"
   ]
  },
  {
   "cell_type": "code",
   "execution_count": null,
   "metadata": {},
   "outputs": [],
   "source": []
  },
  {
   "cell_type": "code",
   "execution_count": null,
   "metadata": {},
   "outputs": [],
   "source": [
    "# Get best model hyperparameters\n",
    "best_hyper = tuner.get_best_hyperparameters(1)[0]\n",
    "best_hyper.values"
   ]
  },
  {
   "cell_type": "code",
   "execution_count": null,
   "metadata": {},
   "outputs": [],
   "source": [
    "# Evaluate best model against full test data\n",
    "best_model = tuner.get_best_models(1)[0]\n",
    "model_loss, model_accuracy = best_model.evaluate(X_test_scaled,y_test,verbose=2)\n",
    "print(f\"Loss: {model_loss}, Accuracy: {model_accuracy}\")"
   ]
  },
  {
   "cell_type": "code",
   "execution_count": 38,
   "metadata": {},
   "outputs": [],
   "source": [
    "# Export our model to HDF5 file\n",
    "#  YOUR CODE GOES HERE"
   ]
  }
 ],
 "metadata": {
  "kernelspec": {
   "display_name": "Python 3 (ipykernel)",
   "language": "python",
   "name": "python3"
  },
  "language_info": {
   "codemirror_mode": {
    "name": "ipython",
    "version": 3
   },
   "file_extension": ".py",
   "mimetype": "text/x-python",
   "name": "python",
   "nbconvert_exporter": "python",
   "pygments_lexer": "ipython3",
   "version": "3.8.10"
  }
 },
 "nbformat": 4,
 "nbformat_minor": 4
}
